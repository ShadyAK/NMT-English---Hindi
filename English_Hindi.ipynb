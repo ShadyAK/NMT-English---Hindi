{
 "cells": [
  {
   "cell_type": "code",
   "execution_count": null,
   "metadata": {
    "colab": {},
    "colab_type": "code",
    "id": "zP3rw5qrwvti"
   },
   "outputs": [],
   "source": [
    "import numpy as np\n",
    "import pandas as pd\n",
    "import string\n",
    "import re\n",
    "import tensorflow as tf"
   ]
  },
  {
   "cell_type": "code",
   "execution_count": null,
   "metadata": {
    "colab": {},
    "colab_type": "code",
    "id": "QPZG2w9twyo5"
   },
   "outputs": [],
   "source": [
    "english_text=pd.read_table('/content/drive/My Drive/WORK/Seq2Seq model/test_en.en',names=['English'])\n",
    "hindi_text=pd.read_table('/content/drive/My Drive/WORK/Seq2Seq model/test_hi.hi',names=['Hindi'])"
   ]
  },
  {
   "cell_type": "code",
   "execution_count": null,
   "metadata": {
    "colab": {},
    "colab_type": "code",
    "id": "Hazg5lQOxQQ8"
   },
   "outputs": [],
   "source": [
    "english_text['English']=english_text['English'].apply(lambda x: x.lower())\n",
    "hindi_text['Hindi']=hindi_text['Hindi'].apply(lambda x:x.lower())\n",
    "exclude = set(string.punctuation) # Set of all special characters\n",
    "\n",
    "# Remove all the special characters\n",
    "english_text['English']=english_text['English'].apply(lambda x: ''.join(ch for ch in x if ch not in exclude))\n",
    "hindi_text['Hindi']=hindi_text['Hindi'].apply(lambda x: ''.join(ch for ch in x if ch not in exclude))\n",
    "\n",
    "# Remove all numbers from text\n",
    "remove_digits = str.maketrans('', '', string.digits)\n",
    "english_text['English']=english_text['English'].apply(lambda x: x.translate(remove_digits))\n",
    "hindi_text['Hindi'] = hindi_text['Hindi'].apply(lambda x: re.sub(\"[२३०८१५७९४६]\", \"\", x))\n",
    "\n",
    "# Remove extra spaces\n",
    "english_text['English']=english_text['English'].apply(lambda x: x.strip())\n",
    "hindi_text['Hindi']=hindi_text['Hindi'].apply(lambda x: x.strip())\n",
    "english_text['English']=english_text['English'].apply(lambda x: re.sub(\" +\", \" \", x))\n",
    "hindi_text['Hindi']=hindi_text['Hindi'].apply(lambda x: re.sub(\" +\", \" \", x))\n",
    "\n",
    "# Add start and end tokens to target sequences\n",
    "hindi_text['Hindi'] = hindi_text['Hindi'].apply(lambda x : 'START_ '+ x + ' _END')"
   ]
  },
  {
   "cell_type": "code",
   "execution_count": null,
   "metadata": {
    "colab": {},
    "colab_type": "code",
    "id": "Xrgr0oI9xSxt"
   },
   "outputs": [],
   "source": [
    "english_text.drop(1452,inplace=True)#Missing hindi translation\n",
    "from sklearn.model_selection import train_test_split\n",
    "X_train, X_test, y_train, y_test = train_test_split(english_text.English, hindi_text.Hindi, test_size = 0.2)"
   ]
  },
  {
   "cell_type": "code",
   "execution_count": null,
   "metadata": {
    "colab": {},
    "colab_type": "code",
    "id": "6AWqmwrtxhB5"
   },
   "outputs": [],
   "source": [
    "english_words=[]\n",
    "hindi_words=[]\n",
    "for line in english_text.English:\n",
    "    for word in line.split(' '):\n",
    "        if word not in english_words:\n",
    "            english_words.append(word)\n",
    "for line in hindi_text.Hindi:\n",
    "    for word in line.split(' '):\n",
    "        if word not in hindi_words:\n",
    "            hindi_words.append(word)\n",
    "max_english_sentence=max([len(line.split(' ')) for line in english_text.English ])\n",
    "max_hindi_sentence=max([len(line.split(' ')) for line in hindi_text.Hindi])"
   ]
  },
  {
   "cell_type": "code",
   "execution_count": null,
   "metadata": {
    "colab": {},
    "colab_type": "code",
    "id": "eeCs48EHxmb5"
   },
   "outputs": [],
   "source": [
    "input_token_index=dict([(word,i) for i,word in enumerate(english_words)])\n",
    "target_token_index=dict([(word,i) for i,word in enumerate(hindi_words)])\n",
    "reverse_input_index=dict([(i,word) for i,word in enumerate(english_words)])\n",
    "reverse_target_index=dict([(i,word) for i,word in enumerate(hindi_words)])"
   ]
  },
  {
   "cell_type": "code",
   "execution_count": null,
   "metadata": {
    "colab": {},
    "colab_type": "code",
    "id": "x6iBWnw7xnwj"
   },
   "outputs": [],
   "source": [
    "def generate_batch(X,y,batch_size=128):\n",
    "    while True:\n",
    "        for j in range(0,len(X),batch_size):\n",
    "            encoder_input_data=np.zeros((batch_size,max_english_sentence))\n",
    "            decoder_input_data=np.zeros((batch_size,max_hindi_sentence))\n",
    "            decoder_target_data=np.zeros((batch_size,max_hindi_sentence,len(hindi_words)))\n",
    "            for i,(input_text,target_text) in enumerate(zip(X[j:j+batch_size],y[j:j+batch_size])):\n",
    "                for t,word in enumerate(input_text.split(' ')):\n",
    "                    encoder_input_data[i,t]=input_token_index[word]\n",
    "                for t,word in enumerate(target_text.split(' ')):\n",
    "                    if t<len(target_text.split(' '))-1:\n",
    "                        decoder_input_data[i,t]=target_token_index[word]\n",
    "                    if t>0:\n",
    "                        decoder_target_data[i,t-1,target_token_index[word]]=1\n",
    "        yield ([encoder_input_data,decoder_input_data],decoder_target_data)            "
   ]
  },
  {
   "cell_type": "code",
   "execution_count": null,
   "metadata": {
    "colab": {},
    "colab_type": "code",
    "id": "J0ej2z9DxpiD"
   },
   "outputs": [],
   "source": [
    "from tensorflow.keras.models import Model\n",
    "from tensorflow.keras.layers import LSTM,Dense,Input,Embedding"
   ]
  },
  {
   "cell_type": "code",
   "execution_count": null,
   "metadata": {
    "colab": {},
    "colab_type": "code",
    "id": "80r3QX8IxrBE"
   },
   "outputs": [],
   "source": [
    "encoder_inputs=Input(shape=(None,))\n",
    "encoder_embedding=Embedding(len(english_words),128,mask_zero=True)(encoder_inputs)\n",
    "encoder_lstm=LSTM(128,return_state=True)\n",
    "encoder_outputs,state_h,state_c=encoder_lstm(encoder_embedding)\n",
    "encoder_states=[state_h,state_c]"
   ]
  },
  {
   "cell_type": "code",
   "execution_count": null,
   "metadata": {
    "colab": {},
    "colab_type": "code",
    "id": "ynvAtPLMxsRs"
   },
   "outputs": [],
   "source": [
    "decoder_inputs=Input(shape=(None,))\n",
    "decoder_embedding=Embedding(len(hindi_words),128,mask_zero=True)\n",
    "dec_emb = decoder_embedding(decoder_inputs)\n",
    "decoder_lstm=LSTM(128,return_sequences=True,return_state=True)\n",
    "decoder_outputs,_,_=decoder_lstm(dec_emb,initial_state=encoder_states)\n",
    "decoder_dense=Dense(len(hindi_words),activation='softmax')\n",
    "decoder_outputs=decoder_dense(decoder_outputs)\n",
    "\n",
    "model=Model([encoder_inputs,decoder_inputs],decoder_outputs)"
   ]
  },
  {
   "cell_type": "code",
   "execution_count": null,
   "metadata": {
    "colab": {},
    "colab_type": "code",
    "id": "cO7XqNE-xtw2"
   },
   "outputs": [],
   "source": [
    "model.compile(optimizer='rmsprop', loss='categorical_crossentropy', metrics=['accuracy'])"
   ]
  },
  {
   "cell_type": "code",
   "execution_count": null,
   "metadata": {
    "colab": {
     "base_uri": "https://localhost:8080/",
     "height": 1000
    },
    "colab_type": "code",
    "id": "Tj-w9bCnxwMv",
    "outputId": "ec5dc8c4-1e68-4d14-f547-9115d3214bc8"
   },
   "outputs": [
    {
     "name": "stdout",
     "output_type": "stream",
     "text": [
      "WARNING:tensorflow:From <ipython-input-24-f53c6fc04ac1>:16: Model.fit_generator (from tensorflow.python.keras.engine.training) is deprecated and will be removed in a future version.\n",
      "Instructions for updating:\n",
      "Please use Model.fit, which supports generators.\n",
      "Epoch 1/100\n",
      " 4/15 [=======>......................] - ETA: 59s - loss: 1.8532 - accuracy: 0.0570\n",
      "Epoch 00001: saving model to /content/drive/My Drive/WORK/Seq2Seq model\n",
      " 9/15 [=================>............] - ETA: 37s - loss: 1.7121 - accuracy: 0.0507\n",
      "Epoch 00001: saving model to /content/drive/My Drive/WORK/Seq2Seq model\n",
      "14/15 [===========================>..] - ETA: 6s - loss: 1.5796 - accuracy: 0.0488 \n",
      "Epoch 00001: saving model to /content/drive/My Drive/WORK/Seq2Seq model\n",
      "15/15 [==============================] - 107s 7s/step - loss: 1.5599 - accuracy: 0.0486 - val_loss: 2.0207 - val_accuracy: 0.0543\n",
      "Epoch 2/100\n",
      " 4/15 [=======>......................] - ETA: 58s - loss: 1.2594 - accuracy: 0.0456\n",
      "Epoch 00002: saving model to /content/drive/My Drive/WORK/Seq2Seq model\n",
      " 9/15 [=================>............] - ETA: 37s - loss: 1.2454 - accuracy: 0.0456\n",
      "Epoch 00002: saving model to /content/drive/My Drive/WORK/Seq2Seq model\n",
      "14/15 [===========================>..] - ETA: 6s - loss: 1.2357 - accuracy: 0.0456 \n",
      "Epoch 00002: saving model to /content/drive/My Drive/WORK/Seq2Seq model\n",
      "15/15 [==============================] - 105s 7s/step - loss: 1.2340 - accuracy: 0.0456 - val_loss: 2.0803 - val_accuracy: 0.0543\n",
      "Epoch 3/100\n",
      " 4/15 [=======>......................] - ETA: 56s - loss: 1.2057 - accuracy: 0.0456\n",
      "Epoch 00003: saving model to /content/drive/My Drive/WORK/Seq2Seq model\n",
      " 9/15 [=================>............] - ETA: 36s - loss: 1.2011 - accuracy: 0.0474\n",
      "Epoch 00003: saving model to /content/drive/My Drive/WORK/Seq2Seq model\n",
      "14/15 [===========================>..] - ETA: 6s - loss: 1.1968 - accuracy: 0.0529 \n",
      "Epoch 00003: saving model to /content/drive/My Drive/WORK/Seq2Seq model\n",
      "15/15 [==============================] - 104s 7s/step - loss: 1.1959 - accuracy: 0.0534 - val_loss: 2.1549 - val_accuracy: 0.0712\n",
      "Epoch 4/100\n",
      " 4/15 [=======>......................] - ETA: 56s - loss: 1.1809 - accuracy: 0.0625\n",
      "Epoch 00004: saving model to /content/drive/My Drive/WORK/Seq2Seq model\n",
      " 9/15 [=================>............] - ETA: 36s - loss: 1.1777 - accuracy: 0.0627\n",
      "Epoch 00004: saving model to /content/drive/My Drive/WORK/Seq2Seq model\n",
      "14/15 [===========================>..] - ETA: 6s - loss: 1.1748 - accuracy: 0.0626 \n",
      "Epoch 00004: saving model to /content/drive/My Drive/WORK/Seq2Seq model\n",
      "15/15 [==============================] - 103s 7s/step - loss: 1.1742 - accuracy: 0.0628 - val_loss: 2.2308 - val_accuracy: 0.0618\n",
      "Epoch 5/100\n",
      " 4/15 [=======>......................] - ETA: 56s - loss: 1.1622 - accuracy: 0.0658\n",
      "Epoch 00005: saving model to /content/drive/My Drive/WORK/Seq2Seq model\n",
      " 9/15 [=================>............] - ETA: 36s - loss: 1.1586 - accuracy: 0.0661\n",
      "Epoch 00005: saving model to /content/drive/My Drive/WORK/Seq2Seq model\n",
      "14/15 [===========================>..] - ETA: 6s - loss: 1.1544 - accuracy: 0.0665 \n",
      "Epoch 00005: saving model to /content/drive/My Drive/WORK/Seq2Seq model\n",
      "15/15 [==============================] - 103s 7s/step - loss: 1.1537 - accuracy: 0.0665 - val_loss: 2.2525 - val_accuracy: 0.0682\n",
      "Epoch 6/100\n",
      " 4/15 [=======>......................] - ETA: 57s - loss: 1.1347 - accuracy: 0.0674\n",
      "Epoch 00006: saving model to /content/drive/My Drive/WORK/Seq2Seq model\n",
      " 9/15 [=================>............] - ETA: 36s - loss: 1.1274 - accuracy: 0.0676\n",
      "Epoch 00006: saving model to /content/drive/My Drive/WORK/Seq2Seq model\n",
      "14/15 [===========================>..] - ETA: 6s - loss: 1.1186 - accuracy: 0.0678 \n",
      "Epoch 00006: saving model to /content/drive/My Drive/WORK/Seq2Seq model\n",
      "15/15 [==============================] - 103s 7s/step - loss: 1.1166 - accuracy: 0.0678 - val_loss: 2.1401 - val_accuracy: 0.0663\n",
      "Epoch 7/100\n",
      " 4/15 [=======>......................] - ETA: 56s - loss: 1.0883 - accuracy: 0.0676\n",
      "Epoch 00007: saving model to /content/drive/My Drive/WORK/Seq2Seq model\n",
      " 9/15 [=================>............] - ETA: 36s - loss: 1.0748 - accuracy: 0.0690\n",
      "Epoch 00007: saving model to /content/drive/My Drive/WORK/Seq2Seq model\n",
      "14/15 [===========================>..] - ETA: 6s - loss: 1.0646 - accuracy: 0.0694 \n",
      "Epoch 00007: saving model to /content/drive/My Drive/WORK/Seq2Seq model\n",
      "15/15 [==============================] - 103s 7s/step - loss: 1.0626 - accuracy: 0.0695 - val_loss: 2.1789 - val_accuracy: 0.0663\n",
      "Epoch 8/100\n",
      " 4/15 [=======>......................] - ETA: 56s - loss: 1.0264 - accuracy: 0.0711\n",
      "Epoch 00008: saving model to /content/drive/My Drive/WORK/Seq2Seq model\n",
      " 9/15 [=================>............] - ETA: 36s - loss: 1.0178 - accuracy: 0.0715\n",
      "Epoch 00008: saving model to /content/drive/My Drive/WORK/Seq2Seq model\n",
      "14/15 [===========================>..] - ETA: 6s - loss: 1.0089 - accuracy: 0.0721 \n",
      "Epoch 00008: saving model to /content/drive/My Drive/WORK/Seq2Seq model\n",
      "15/15 [==============================] - 103s 7s/step - loss: 1.0073 - accuracy: 0.0722 - val_loss: 2.1901 - val_accuracy: 0.0667\n",
      "Epoch 9/100\n",
      " 4/15 [=======>......................] - ETA: 56s - loss: 0.9778 - accuracy: 0.0750\n",
      "Epoch 00009: saving model to /content/drive/My Drive/WORK/Seq2Seq model\n",
      " 9/15 [=================>............] - ETA: 36s - loss: 0.9682 - accuracy: 0.0765\n",
      "Epoch 00009: saving model to /content/drive/My Drive/WORK/Seq2Seq model\n",
      "14/15 [===========================>..] - ETA: 6s - loss: 0.9600 - accuracy: 0.0789 \n",
      "Epoch 00009: saving model to /content/drive/My Drive/WORK/Seq2Seq model\n",
      "15/15 [==============================] - 102s 7s/step - loss: 0.9582 - accuracy: 0.0793 - val_loss: 2.2549 - val_accuracy: 0.0738\n",
      "Epoch 10/100\n",
      " 4/15 [=======>......................] - ETA: 55s - loss: 0.9275 - accuracy: 0.0913\n",
      "Epoch 00010: saving model to /content/drive/My Drive/WORK/Seq2Seq model\n",
      " 9/15 [=================>............] - ETA: 36s - loss: 0.9174 - accuracy: 0.0956\n",
      "Epoch 00010: saving model to /content/drive/My Drive/WORK/Seq2Seq model\n",
      "14/15 [===========================>..] - ETA: 6s - loss: 0.9106 - accuracy: 0.0987 \n",
      "Epoch 00010: saving model to /content/drive/My Drive/WORK/Seq2Seq model\n",
      "15/15 [==============================] - 102s 7s/step - loss: 0.9100 - accuracy: 0.0987 - val_loss: 2.3052 - val_accuracy: 0.0663\n",
      "Epoch 11/100\n",
      " 4/15 [=======>......................] - ETA: 55s - loss: 0.8755 - accuracy: 0.1170\n",
      "Epoch 00011: saving model to /content/drive/My Drive/WORK/Seq2Seq model\n",
      " 9/15 [=================>............] - ETA: 36s - loss: 0.8687 - accuracy: 0.1217\n",
      "Epoch 00011: saving model to /content/drive/My Drive/WORK/Seq2Seq model\n",
      "14/15 [===========================>..] - ETA: 6s - loss: 0.8622 - accuracy: 0.1258 \n",
      "Epoch 00011: saving model to /content/drive/My Drive/WORK/Seq2Seq model\n",
      "15/15 [==============================] - 102s 7s/step - loss: 0.8607 - accuracy: 0.1276 - val_loss: 2.3658 - val_accuracy: 0.0618\n",
      "Epoch 12/100\n",
      " 4/15 [=======>......................] - ETA: 55s - loss: 0.8292 - accuracy: 0.1585\n",
      "Epoch 00012: saving model to /content/drive/My Drive/WORK/Seq2Seq model\n",
      " 9/15 [=================>............] - ETA: 36s - loss: 0.8231 - accuracy: 0.1647\n",
      "Epoch 00012: saving model to /content/drive/My Drive/WORK/Seq2Seq model\n",
      "14/15 [===========================>..] - ETA: 6s - loss: 0.8169 - accuracy: 0.1714 \n",
      "Epoch 00012: saving model to /content/drive/My Drive/WORK/Seq2Seq model\n",
      "15/15 [==============================] - 102s 7s/step - loss: 0.8152 - accuracy: 0.1739 - val_loss: 2.3970 - val_accuracy: 0.0607\n",
      "Epoch 13/100\n",
      " 4/15 [=======>......................] - ETA: 55s - loss: 0.7886 - accuracy: 0.2036\n",
      "Epoch 00013: saving model to /content/drive/My Drive/WORK/Seq2Seq model\n",
      " 9/15 [=================>............] - ETA: 36s - loss: 0.7801 - accuracy: 0.2180\n",
      "Epoch 00013: saving model to /content/drive/My Drive/WORK/Seq2Seq model\n",
      "14/15 [===========================>..] - ETA: 6s - loss: 0.7735 - accuracy: 0.2239 \n",
      "Epoch 00013: saving model to /content/drive/My Drive/WORK/Seq2Seq model\n",
      "15/15 [==============================] - 102s 7s/step - loss: 0.7725 - accuracy: 0.2239 - val_loss: 2.4475 - val_accuracy: 0.0536\n",
      "Epoch 14/100\n",
      " 4/15 [=======>......................] - ETA: 55s - loss: 0.7427 - accuracy: 0.2663\n",
      "Epoch 00014: saving model to /content/drive/My Drive/WORK/Seq2Seq model\n",
      " 9/15 [=================>............] - ETA: 36s - loss: 0.7374 - accuracy: 0.2708\n",
      "Epoch 00014: saving model to /content/drive/My Drive/WORK/Seq2Seq model\n",
      "14/15 [===========================>..] - ETA: 6s - loss: 0.7296 - accuracy: 0.2800 \n",
      "Epoch 00014: saving model to /content/drive/My Drive/WORK/Seq2Seq model\n",
      "15/15 [==============================] - 102s 7s/step - loss: 0.7285 - accuracy: 0.2805 - val_loss: 2.4895 - val_accuracy: 0.0555\n",
      "Epoch 15/100\n",
      " 4/15 [=======>......................] - ETA: 55s - loss: 0.7042 - accuracy: 0.2984\n",
      "Epoch 00015: saving model to /content/drive/My Drive/WORK/Seq2Seq model\n",
      " 9/15 [=================>............] - ETA: 36s - loss: 0.6984 - accuracy: 0.3087\n",
      "Epoch 00015: saving model to /content/drive/My Drive/WORK/Seq2Seq model\n",
      "14/15 [===========================>..] - ETA: 6s - loss: 0.6899 - accuracy: 0.3255 \n",
      "Epoch 00015: saving model to /content/drive/My Drive/WORK/Seq2Seq model\n",
      "15/15 [==============================] - 102s 7s/step - loss: 0.6885 - accuracy: 0.3275 - val_loss: 2.5204 - val_accuracy: 0.0555\n",
      "Epoch 16/100\n",
      " 4/15 [=======>......................] - ETA: 56s - loss: 0.6643 - accuracy: 0.3582\n",
      "Epoch 00016: saving model to /content/drive/My Drive/WORK/Seq2Seq model\n",
      " 9/15 [=================>............] - ETA: 36s - loss: 0.6569 - accuracy: 0.3708\n",
      "Epoch 00016: saving model to /content/drive/My Drive/WORK/Seq2Seq model\n",
      "14/15 [===========================>..] - ETA: 6s - loss: 0.6495 - accuracy: 0.3836 \n",
      "Epoch 00016: saving model to /content/drive/My Drive/WORK/Seq2Seq model\n",
      "15/15 [==============================] - 102s 7s/step - loss: 0.6480 - accuracy: 0.3867 - val_loss: 2.5548 - val_accuracy: 0.0525\n",
      "Epoch 17/100\n",
      " 4/15 [=======>......................] - ETA: 55s - loss: 0.6238 - accuracy: 0.4185\n",
      "Epoch 00017: saving model to /content/drive/My Drive/WORK/Seq2Seq model\n",
      " 9/15 [=================>............] - ETA: 36s - loss: 0.6179 - accuracy: 0.4245\n",
      "Epoch 00017: saving model to /content/drive/My Drive/WORK/Seq2Seq model\n",
      "14/15 [===========================>..] - ETA: 6s - loss: 0.6112 - accuracy: 0.4340 \n",
      "Epoch 00017: saving model to /content/drive/My Drive/WORK/Seq2Seq model\n",
      "15/15 [==============================] - 102s 7s/step - loss: 0.6096 - accuracy: 0.4361 - val_loss: 2.5939 - val_accuracy: 0.0499\n",
      "Epoch 18/100\n",
      " 4/15 [=======>......................] - ETA: 55s - loss: 0.5847 - accuracy: 0.4673\n",
      "Epoch 00018: saving model to /content/drive/My Drive/WORK/Seq2Seq model\n",
      " 9/15 [=================>............] - ETA: 36s - loss: 0.5790 - accuracy: 0.4733\n",
      "Epoch 00018: saving model to /content/drive/My Drive/WORK/Seq2Seq model\n",
      "14/15 [===========================>..] - ETA: 6s - loss: 0.5723 - accuracy: 0.4829 \n",
      "Epoch 00018: saving model to /content/drive/My Drive/WORK/Seq2Seq model\n",
      "15/15 [==============================] - 102s 7s/step - loss: 0.5708 - accuracy: 0.4849 - val_loss: 2.6270 - val_accuracy: 0.0487\n",
      "Epoch 19/100\n",
      " 4/15 [=======>......................] - ETA: 55s - loss: 0.5443 - accuracy: 0.5194\n",
      "Epoch 00019: saving model to /content/drive/My Drive/WORK/Seq2Seq model\n",
      " 9/15 [=================>............] - ETA: 36s - loss: 0.5403 - accuracy: 0.5205\n",
      "Epoch 00019: saving model to /content/drive/My Drive/WORK/Seq2Seq model\n",
      "14/15 [===========================>..] - ETA: 6s - loss: 0.5359 - accuracy: 0.5220 \n",
      "Epoch 00019: saving model to /content/drive/My Drive/WORK/Seq2Seq model\n",
      "15/15 [==============================] - 101s 7s/step - loss: 0.5344 - accuracy: 0.5240 - val_loss: 2.6550 - val_accuracy: 0.0476\n",
      "Epoch 20/100\n",
      " 4/15 [=======>......................] - ETA: 55s - loss: 0.5067 - accuracy: 0.5598\n",
      "Epoch 00020: saving model to /content/drive/My Drive/WORK/Seq2Seq model\n",
      " 9/15 [=================>............] - ETA: 35s - loss: 0.5032 - accuracy: 0.5597\n",
      "Epoch 00020: saving model to /content/drive/My Drive/WORK/Seq2Seq model\n",
      "14/15 [===========================>..] - ETA: 6s - loss: 0.4970 - accuracy: 0.5671 \n",
      "Epoch 00020: saving model to /content/drive/My Drive/WORK/Seq2Seq model\n",
      "15/15 [==============================] - 101s 7s/step - loss: 0.4960 - accuracy: 0.5684 - val_loss: 2.6772 - val_accuracy: 0.0461\n",
      "Epoch 21/100\n",
      " 4/15 [=======>......................] - ETA: 55s - loss: 0.4765 - accuracy: 0.5870\n",
      "Epoch 00021: saving model to /content/drive/My Drive/WORK/Seq2Seq model\n",
      " 9/15 [=================>............] - ETA: 35s - loss: 0.4669 - accuracy: 0.6018\n",
      "Epoch 00021: saving model to /content/drive/My Drive/WORK/Seq2Seq model\n",
      "14/15 [===========================>..] - ETA: 6s - loss: 0.4630 - accuracy: 0.6034 \n",
      "Epoch 00021: saving model to /content/drive/My Drive/WORK/Seq2Seq model\n",
      "15/15 [==============================] - 101s 7s/step - loss: 0.4620 - accuracy: 0.6044 - val_loss: 2.7029 - val_accuracy: 0.0499\n",
      "Epoch 22/100\n",
      " 4/15 [=======>......................] - ETA: 55s - loss: 0.4363 - accuracy: 0.6332\n",
      "Epoch 00022: saving model to /content/drive/My Drive/WORK/Seq2Seq model\n",
      " 9/15 [=================>............] - ETA: 35s - loss: 0.4333 - accuracy: 0.6354\n",
      "Epoch 00022: saving model to /content/drive/My Drive/WORK/Seq2Seq model\n",
      "14/15 [===========================>..] - ETA: 6s - loss: 0.4259 - accuracy: 0.6444 \n",
      "Epoch 00022: saving model to /content/drive/My Drive/WORK/Seq2Seq model\n",
      "15/15 [==============================] - 100s 7s/step - loss: 0.4247 - accuracy: 0.6456 - val_loss: 2.7283 - val_accuracy: 0.0461\n",
      "Epoch 23/100\n",
      " 4/15 [=======>......................] - ETA: 55s - loss: 0.4142 - accuracy: 0.6502\n",
      "Epoch 00023: saving model to /content/drive/My Drive/WORK/Seq2Seq model\n",
      " 9/15 [=================>............] - ETA: 35s - loss: 0.4025 - accuracy: 0.6688\n",
      "Epoch 00023: saving model to /content/drive/My Drive/WORK/Seq2Seq model\n",
      "14/15 [===========================>..] - ETA: 6s - loss: 0.3947 - accuracy: 0.6781 \n",
      "Epoch 00023: saving model to /content/drive/My Drive/WORK/Seq2Seq model\n",
      "15/15 [==============================] - 101s 7s/step - loss: 0.3936 - accuracy: 0.6802 - val_loss: 2.7621 - val_accuracy: 0.0469\n",
      "Epoch 24/100\n",
      " 4/15 [=======>......................] - ETA: 55s - loss: 0.3760 - accuracy: 0.6947\n",
      "Epoch 00024: saving model to /content/drive/My Drive/WORK/Seq2Seq model\n",
      " 9/15 [=================>............] - ETA: 35s - loss: 0.3705 - accuracy: 0.7023\n",
      "Epoch 00024: saving model to /content/drive/My Drive/WORK/Seq2Seq model\n",
      "14/15 [===========================>..] - ETA: 6s - loss: 0.3638 - accuracy: 0.7121 \n",
      "Epoch 00024: saving model to /content/drive/My Drive/WORK/Seq2Seq model\n",
      "15/15 [==============================] - 100s 7s/step - loss: 0.3626 - accuracy: 0.7131 - val_loss: 2.7705 - val_accuracy: 0.0476\n",
      "Epoch 25/100\n",
      " 4/15 [=======>......................] - ETA: 54s - loss: 0.3395 - accuracy: 0.7384\n",
      "Epoch 00025: saving model to /content/drive/My Drive/WORK/Seq2Seq model\n",
      " 9/15 [=================>............] - ETA: 35s - loss: 0.3363 - accuracy: 0.7422\n",
      "Epoch 00025: saving model to /content/drive/My Drive/WORK/Seq2Seq model\n",
      "14/15 [===========================>..] - ETA: 6s - loss: 0.3324 - accuracy: 0.7456 \n",
      "Epoch 00025: saving model to /content/drive/My Drive/WORK/Seq2Seq model\n",
      "15/15 [==============================] - 100s 7s/step - loss: 0.3311 - accuracy: 0.7471 - val_loss: 2.7870 - val_accuracy: 0.0528\n",
      "Epoch 26/100\n",
      " 4/15 [=======>......................] - ETA: 55s - loss: 0.3088 - accuracy: 0.7708\n",
      "Epoch 00026: saving model to /content/drive/My Drive/WORK/Seq2Seq model\n",
      " 9/15 [=================>............] - ETA: 35s - loss: 0.3062 - accuracy: 0.7703\n",
      "Epoch 00026: saving model to /content/drive/My Drive/WORK/Seq2Seq model\n",
      "14/15 [===========================>..] - ETA: 6s - loss: 0.3019 - accuracy: 0.7746 \n",
      "Epoch 00026: saving model to /content/drive/My Drive/WORK/Seq2Seq model\n",
      "15/15 [==============================] - 101s 7s/step - loss: 0.3012 - accuracy: 0.7753 - val_loss: 2.8120 - val_accuracy: 0.0472\n",
      "Epoch 27/100\n",
      " 4/15 [=======>......................] - ETA: 55s - loss: 0.2841 - accuracy: 0.7891\n",
      "Epoch 00027: saving model to /content/drive/My Drive/WORK/Seq2Seq model\n",
      " 9/15 [=================>............] - ETA: 36s - loss: 0.2780 - accuracy: 0.7952\n",
      "Epoch 00027: saving model to /content/drive/My Drive/WORK/Seq2Seq model\n",
      "14/15 [===========================>..] - ETA: 6s - loss: 0.2740 - accuracy: 0.7984 \n",
      "Epoch 00027: saving model to /content/drive/My Drive/WORK/Seq2Seq model\n",
      "15/15 [==============================] - 101s 7s/step - loss: 0.2732 - accuracy: 0.7992 - val_loss: 2.8340 - val_accuracy: 0.0480\n",
      "Epoch 28/100\n",
      " 4/15 [=======>......................] - ETA: 54s - loss: 0.2561 - accuracy: 0.8165\n",
      "Epoch 00028: saving model to /content/drive/My Drive/WORK/Seq2Seq model\n",
      " 9/15 [=================>............] - ETA: 35s - loss: 0.2535 - accuracy: 0.8175\n",
      "Epoch 00028: saving model to /content/drive/My Drive/WORK/Seq2Seq model\n",
      "14/15 [===========================>..] - ETA: 6s - loss: 0.2480 - accuracy: 0.8232 \n",
      "Epoch 00028: saving model to /content/drive/My Drive/WORK/Seq2Seq model\n",
      "15/15 [==============================] - 100s 7s/step - loss: 0.2472 - accuracy: 0.8238 - val_loss: 2.8362 - val_accuracy: 0.0495\n",
      "Epoch 29/100\n",
      " 4/15 [=======>......................] - ETA: 55s - loss: 0.2301 - accuracy: 0.8422\n",
      "Epoch 00029: saving model to /content/drive/My Drive/WORK/Seq2Seq model\n",
      " 9/15 [=================>............] - ETA: 35s - loss: 0.2258 - accuracy: 0.8466\n",
      "Epoch 00029: saving model to /content/drive/My Drive/WORK/Seq2Seq model\n",
      "14/15 [===========================>..] - ETA: 6s - loss: 0.2240 - accuracy: 0.8463 \n",
      "Epoch 00029: saving model to /content/drive/My Drive/WORK/Seq2Seq model\n",
      "15/15 [==============================] - 100s 7s/step - loss: 0.2233 - accuracy: 0.8471 - val_loss: 2.8547 - val_accuracy: 0.0528\n",
      "Epoch 30/100\n",
      " 4/15 [=======>......................] - ETA: 55s - loss: 0.2032 - accuracy: 0.8662\n",
      "Epoch 00030: saving model to /content/drive/My Drive/WORK/Seq2Seq model\n",
      " 9/15 [=================>............] - ETA: 35s - loss: 0.2009 - accuracy: 0.8687\n",
      "Epoch 00030: saving model to /content/drive/My Drive/WORK/Seq2Seq model\n",
      "14/15 [===========================>..] - ETA: 6s - loss: 0.1980 - accuracy: 0.8709 \n",
      "Epoch 00030: saving model to /content/drive/My Drive/WORK/Seq2Seq model\n",
      "15/15 [==============================] - 101s 7s/step - loss: 0.1974 - accuracy: 0.8715 - val_loss: 2.8673 - val_accuracy: 0.0510\n",
      "Epoch 31/100\n",
      " 4/15 [=======>......................] - ETA: 55s - loss: 0.1862 - accuracy: 0.8805\n",
      "Epoch 00031: saving model to /content/drive/My Drive/WORK/Seq2Seq model\n",
      " 9/15 [=================>............] - ETA: 35s - loss: 0.1833 - accuracy: 0.8843\n",
      "Epoch 00031: saving model to /content/drive/My Drive/WORK/Seq2Seq model\n",
      "14/15 [===========================>..] - ETA: 6s - loss: 0.1781 - accuracy: 0.8901 \n",
      "Epoch 00031: saving model to /content/drive/My Drive/WORK/Seq2Seq model\n",
      "15/15 [==============================] - 100s 7s/step - loss: 0.1774 - accuracy: 0.8909 - val_loss: 2.8957 - val_accuracy: 0.0502\n",
      "Epoch 32/100\n",
      " 4/15 [=======>......................] - ETA: 55s - loss: 0.1635 - accuracy: 0.9050\n",
      "Epoch 00032: saving model to /content/drive/My Drive/WORK/Seq2Seq model\n",
      " 9/15 [=================>............] - ETA: 35s - loss: 0.1613 - accuracy: 0.9070\n",
      "Epoch 00032: saving model to /content/drive/My Drive/WORK/Seq2Seq model\n",
      "14/15 [===========================>..] - ETA: 6s - loss: 0.1592 - accuracy: 0.9087 \n",
      "Epoch 00032: saving model to /content/drive/My Drive/WORK/Seq2Seq model\n",
      "15/15 [==============================] - 100s 7s/step - loss: 0.1584 - accuracy: 0.9092 - val_loss: 2.9026 - val_accuracy: 0.0487\n",
      "Epoch 33/100\n",
      " 4/15 [=======>......................] - ETA: 55s - loss: 0.1425 - accuracy: 0.9239\n",
      "Epoch 00033: saving model to /content/drive/My Drive/WORK/Seq2Seq model\n",
      " 9/15 [=================>............] - ETA: 35s - loss: 0.1405 - accuracy: 0.9255\n",
      "Epoch 00033: saving model to /content/drive/My Drive/WORK/Seq2Seq model\n",
      "14/15 [===========================>..] - ETA: 6s - loss: 0.1382 - accuracy: 0.9269 \n",
      "Epoch 00033: saving model to /content/drive/My Drive/WORK/Seq2Seq model\n",
      "15/15 [==============================] - 100s 7s/step - loss: 0.1377 - accuracy: 0.9275 - val_loss: 2.9196 - val_accuracy: 0.0502\n",
      "Epoch 34/100\n",
      " 4/15 [=======>......................] - ETA: 54s - loss: 0.1318 - accuracy: 0.9314\n",
      "Epoch 00034: saving model to /content/drive/My Drive/WORK/Seq2Seq model\n",
      " 9/15 [=================>............] - ETA: 35s - loss: 0.1259 - accuracy: 0.9373\n",
      "Epoch 00034: saving model to /content/drive/My Drive/WORK/Seq2Seq model\n",
      "14/15 [===========================>..] - ETA: 6s - loss: 0.1222 - accuracy: 0.9413 \n",
      "Epoch 00034: saving model to /content/drive/My Drive/WORK/Seq2Seq model\n",
      "15/15 [==============================] - 100s 7s/step - loss: 0.1216 - accuracy: 0.9419 - val_loss: 2.9231 - val_accuracy: 0.0517\n",
      "Epoch 35/100\n",
      " 4/15 [=======>......................] - ETA: 54s - loss: 0.1116 - accuracy: 0.9501\n",
      "Epoch 00035: saving model to /content/drive/My Drive/WORK/Seq2Seq model\n",
      " 9/15 [=================>............] - ETA: 35s - loss: 0.1108 - accuracy: 0.9505\n",
      "Epoch 00035: saving model to /content/drive/My Drive/WORK/Seq2Seq model\n",
      "14/15 [===========================>..] - ETA: 6s - loss: 0.1073 - accuracy: 0.9540 \n",
      "Epoch 00035: saving model to /content/drive/My Drive/WORK/Seq2Seq model\n",
      "15/15 [==============================] - 100s 7s/step - loss: 0.1066 - accuracy: 0.9547 - val_loss: 2.9375 - val_accuracy: 0.0528\n",
      "Epoch 36/100\n",
      " 4/15 [=======>......................] - ETA: 55s - loss: 0.0954 - accuracy: 0.9664\n",
      "Epoch 00036: saving model to /content/drive/My Drive/WORK/Seq2Seq model\n",
      " 9/15 [=================>............] - ETA: 35s - loss: 0.0949 - accuracy: 0.9665\n",
      "Epoch 00036: saving model to /content/drive/My Drive/WORK/Seq2Seq model\n",
      "13/15 [=========================>....] - ETA: 12s - loss: 0.0928 - accuracy: 0.9679"
     ]
    }
   ],
   "source": [
    "train_samples = len(X_train)\n",
    "val_samples = len(X_test)\n",
    "batch_size = 128\n",
    "epochs = 100\n",
    "#checkpoint_path = \"eng-hin.ckpt\"\n",
    "cp_callback = tf.keras.callbacks.ModelCheckpoint(\n",
    "    filepath='/content/drive/My Drive/WORK/Seq2Seq model', \n",
    "    verbose=1, \n",
    "    save_weights_only=True,\n",
    "    save_freq=5)\n",
    "model.fit_generator(generator=generate_batch(X_train,y_train,128),\n",
    "                   steps_per_epoch = train_samples//batch_size,\n",
    "                    epochs=epochs,\n",
    "                    validation_data = generate_batch(X_test, y_test, batch_size = batch_size),\n",
    "                    validation_steps = val_samples//batch_size,\n",
    "                    callbacks=[cp_callback])"
   ]
  },
  {
   "cell_type": "code",
   "execution_count": null,
   "metadata": {
    "colab": {},
    "colab_type": "code",
    "id": "IeWEdot_xyKJ"
   },
   "outputs": [],
   "source": [
    "model.save_weights(\"eng-hin2.h5\")\n",
    "#model.load_weights('eng-hin.h5')"
   ]
  },
  {
   "cell_type": "code",
   "execution_count": null,
   "metadata": {
    "colab": {},
    "colab_type": "code",
    "id": "uRYyA3vR8RB8"
   },
   "outputs": [],
   "source": [
    "encoder_model=Model(encoder_inputs,encoder_states)\n",
    "decoder_state_input_h = Input(shape=(50,))\n",
    "decoder_state_input_c = Input(shape=(50,))\n",
    "decoder_states_inputs = [decoder_state_input_h, decoder_state_input_c]\n",
    "\n",
    "dec_emb2 = decoder_embedding(decoder_inputs) # Get the embeddings of the decoder sequence\n",
    "\n",
    "# To predict the next word in the sequence, set the initial states to the states from the previous time step\n",
    "decoder_outputs2, state_h2, state_c2 = decoder_lstm(dec_emb2, initial_state=decoder_states_inputs)\n",
    "decoder_states2 = [state_h2, state_c2]\n",
    "decoder_outputs2 = decoder_dense(decoder_outputs2) # A dense softmax layer to generate prob dist. over the target vocabulary\n",
    "\n",
    "# Final decoder model\n",
    "decoder_model = Model(\n",
    "    [decoder_inputs] + decoder_states_inputs,\n",
    "    [decoder_outputs2] + decoder_states2)"
   ]
  },
  {
   "cell_type": "code",
   "execution_count": null,
   "metadata": {
    "colab": {},
    "colab_type": "code",
    "id": "teYBPth48v2S"
   },
   "outputs": [],
   "source": [
    "def decode_sequence(input_seq):\n",
    "    # Encode the input as state vectors.\n",
    "    states_value = encoder_model.predict(input_seq)\n",
    "    # Generate empty target sequence of length 1.\n",
    "    target_seq = np.zeros((1,1))\n",
    "    # Populate the first character of target sequence with the start character.\n",
    "    target_seq[0, 0] = target_token_index['START_']\n",
    "\n",
    "    # Sampling loop for a batch of sequences\n",
    "    # (to simplify, here we assume a batch of size 1).\n",
    "    stop_condition = False\n",
    "    decoded_sentence = ''\n",
    "    while not stop_condition:\n",
    "        output_tokens, h, c = decoder_model.predict([target_seq] + states_value)\n",
    "\n",
    "        # Sample a token\n",
    "        sampled_token_index = np.argmax(output_tokens[0, -1, :])\n",
    "        sampled_char = reverse_target_index[sampled_token_index]\n",
    "        decoded_sentence +=' '+sampled_char\n",
    "\n",
    "        # Exit condition: either hit max length\n",
    "        # or find stop character.\n",
    "        if (sampled_char == '_END' or\n",
    "           len(decoded_sentence) > 50):\n",
    "            stop_condition = True\n",
    "\n",
    "        # Update the target sequence (of length 1).\n",
    "        target_seq = np.zeros((1,1))\n",
    "        target_seq[0, 0] = sampled_token_index\n",
    "\n",
    "        # Update states\n",
    "        states_value = [h, c]\n",
    "\n",
    "    return decoded_sentence[:-4]"
   ]
  },
  {
   "cell_type": "code",
   "execution_count": null,
   "metadata": {
    "colab": {},
    "colab_type": "code",
    "id": "DQwjH0XBeUWR"
   },
   "outputs": [],
   "source": [
    "input_data=np.zeros((1,max_english_sentence))\n",
    "text=\"i am not talking about nsa\"\n",
    "for i,word in enumerate(text.split(' ')):\n",
    "  input_data[0,i]=input_token_index[word]"
   ]
  },
  {
   "cell_type": "code",
   "execution_count": null,
   "metadata": {
    "colab": {
     "base_uri": "https://localhost:8080/",
     "height": 34
    },
    "colab_type": "code",
    "id": "5xG8kML5eXYv",
    "outputId": "2be6140a-23cc-46b9-8056-cf1fb5802db2"
   },
   "outputs": [
    {
     "data": {
      "text/plain": [
       "1138"
      ]
     },
     "execution_count": 48,
     "metadata": {
      "tags": []
     },
     "output_type": "execute_result"
    }
   ],
   "source": [
    "input_token_index['good']     "
   ]
  },
  {
   "cell_type": "code",
   "execution_count": null,
   "metadata": {
    "colab": {
     "base_uri": "https://localhost:8080/",
     "height": 35
    },
    "colab_type": "code",
    "id": "-cKHvaYZhE0X",
    "outputId": "abdb3eca-7173-4f45-ef03-f2d2089e146c"
   },
   "outputs": [
    {
     "data": {
      "application/vnd.google.colaboratory.intrinsic+json": {
       "type": "string"
      },
      "text/plain": [
       "' एनएसए के लिए निर्णय लेने में सक्षम बनाता है। '"
      ]
     },
     "execution_count": 53,
     "metadata": {
      "tags": []
     },
     "output_type": "execute_result"
    }
   ],
   "source": [
    "decode_sequence(input_data)"
   ]
  }
 ],
 "metadata": {
  "colab": {
   "name": "English-Hindi.ipynb",
   "provenance": []
  },
  "kernelspec": {
   "display_name": "Python 3",
   "language": "python",
   "name": "python3"
  },
  "language_info": {
   "codemirror_mode": {
    "name": "ipython",
    "version": 3
   },
   "file_extension": ".py",
   "mimetype": "text/x-python",
   "name": "python",
   "nbconvert_exporter": "python",
   "pygments_lexer": "ipython3",
   "version": "3.7.6"
  }
 },
 "nbformat": 4,
 "nbformat_minor": 1
}
